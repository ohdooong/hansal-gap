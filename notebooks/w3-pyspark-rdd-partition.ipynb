{
 "cells": [
  {
   "cell_type": "markdown",
   "metadata": {},
   "source": [
    "# Spark Context"
   ]
  },
  {
   "cell_type": "code",
   "execution_count": 1,
   "metadata": {},
   "outputs": [
    {
     "name": "stderr",
     "output_type": "stream",
     "text": [
      "WARNING: An illegal reflective access operation has occurred\n",
      "WARNING: Illegal reflective access by org.apache.spark.unsafe.Platform (file:/usr/local/spark-3.1.2-bin-hadoop3.2/jars/spark-unsafe_2.12-3.1.2.jar) to constructor java.nio.DirectByteBuffer(long,int)\n",
      "WARNING: Please consider reporting this to the maintainers of org.apache.spark.unsafe.Platform\n",
      "WARNING: Use --illegal-access=warn to enable warnings of further illegal reflective access operations\n",
      "WARNING: All illegal access operations will be denied in a future release\n",
      "24/10/29 01:03:52 WARN NativeCodeLoader: Unable to load native-hadoop library for your platform... using builtin-java classes where applicable\n",
      "Using Spark's default log4j profile: org/apache/spark/log4j-defaults.properties\n",
      "Setting default log level to \"WARN\".\n",
      "To adjust logging level use sc.setLogLevel(newLevel). For SparkR, use setLogLevel(newLevel).\n"
     ]
    }
   ],
   "source": [
    "from pyspark.sql import SparkSession\n",
    "\n",
    "# Spark session & context\n",
    "spark = (SparkSession\n",
    "         .builder\n",
    "         .master(\"local\")\n",
    "         .appName(\"spark-sql\")\n",
    "         .getOrCreate())\n",
    "sc = spark.sparkContext"
   ]
  },
  {
   "cell_type": "code",
   "execution_count": 2,
   "metadata": {},
   "outputs": [
    {
     "name": "stderr",
     "output_type": "stream",
     "text": [
      "                                                                                \r"
     ]
    }
   ],
   "source": [
    "df = (\n",
    "    spark.read\n",
    "    .format(\"csv\")\n",
    "    .option(\"header\", True)\n",
    "    .load(\"/home/jovyan/data/epp_security_logs_202401.csv\")\n",
    ")"
   ]
  },
  {
   "cell_type": "code",
   "execution_count": 3,
   "metadata": {},
   "outputs": [
    {
     "name": "stderr",
     "output_type": "stream",
     "text": [
      "                                                                                \r"
     ]
    },
    {
     "data": {
      "text/plain": [
       "DataFrame[summary: string, id: string, log_receive_date: string, log_create_date: string, agent_id: string, ip_address: string, mac_address: string, computer_name: string, last_logged_in_user: string, user_name: string, department: string, container_name: string, container_id: string, container_image_name: string, malware_name: string, v3_engine_version: string, infected_file_path: string, hash_sha256: string, hash_md5: string, file_size: string, status: string, scan_method: string, owner: string, accessor: string, infected_by: string]"
      ]
     },
     "execution_count": 3,
     "metadata": {},
     "output_type": "execute_result"
    }
   ],
   "source": [
    "df.summary()"
   ]
  },
  {
   "cell_type": "code",
   "execution_count": 4,
   "metadata": {},
   "outputs": [
    {
     "name": "stderr",
     "output_type": "stream",
     "text": [
      "                                                                                \r"
     ]
    },
    {
     "name": "stdout",
     "output_type": "stream",
     "text": [
      "+---+-----------------------+-----------------------+--------+-------------+-----------------+-------------+-------------------+---------+-------------+--------------+------------+--------------------+----------------------------+-----------------+--------------------------------------------------------------------------------------------+----------------------------------------------------------------+--------------------------------+---------+-----------------------------------------------------------------------------+-----------+-----+--------+-----------+\n",
      "|id |log_receive_date       |log_create_date        |agent_id|ip_address   |mac_address      |computer_name|last_logged_in_user|user_name|department   |container_name|container_id|container_image_name|malware_name                |v3_engine_version|infected_file_path                                                                          |hash_sha256                                                     |hash_md5                        |file_size|status                                                                       |scan_method|owner|accessor|infected_by|\n",
      "+---+-----------------------+-----------------------+--------+-------------+-----------------+-------------+-------------------+---------+-------------+--------------+------------+--------------------+----------------------------+-----------------+--------------------------------------------------------------------------------------------+----------------------------------------------------------------+--------------------------------+---------+-----------------------------------------------------------------------------+-----------+-----+--------+-----------+\n",
      "|1  |2024-01-31 16:55:00.000|2024-01-31 16:55:00.000|6584    |192.168.64.26|c4-bd-e5-f6-19-72|HSCAG-0643   |HSCAG-0643         |신규탁   |한솔제지/천안|null          |null        |null                |PUP/Win32.Generic.W515528841|2024.01.31.02    |C:\\Users\\HSCAG-0643\\Desktop\\q-dir-11.14-installer_k6y-uD1.exe                               |null                                                            |null                            |0        |치료 불가(이미 삭제됐거나 파일이 존재하지 않아 치료할 수 없습니다.(코드: 26))|실시간 검사|null |null    |null       |\n",
      "|2  |2024-01-31 16:55:00.000|2024-01-31 16:55:00.000|6584    |192.168.64.26|c4-bd-e5-f6-19-72|HSCAG-0643   |HSCAG-0643         |신규탁   |한솔제지/천안|null          |null        |null                |PUP/Win32.Generic.W515528841|2024.01.31.02    |C:\\Users\\HSCAG-0643\\Desktop\\q-dir-11.14-installer_k6y-uD1.exe                               |null                                                            |null                            |0        |치료 가능(코드: 900)                                                         |실시간 검사|null |null    |null       |\n",
      "|3  |2024-01-31 16:55:00.000|2024-01-31 16:55:00.000|6584    |192.168.64.26|c4-bd-e5-f6-19-72|HSCAG-0643   |HSCAG-0643         |신규탁   |한솔제지/천안|ㅛ            |null        |null                |PUP/Win32.Generic.W515528841|2024.01.31.02    |C:\\Users\\HSCAG-0643\\Desktop\\q-dir-11.14-installer_k6y-uD1.exe                               |null                                                            |null                            |0        |치료 불가(이미 삭제됐거나 파일이 존재하지 않아 치료할 수 없습니다.(코드: 26))|실시간 검사|null |null    |null       |\n",
      "|4  |2024-01-31 16:55:00.000|2024-01-31 16:55:00.000|6584    |192.168.64.26|c4-bd-e5-f6-19-72|HSCAG-0643   |HSCAG-0643         |신규탁   |한솔제지/천안|null          |null        |null                |PUP/Win32.Generic.W515528841|2024.01.31.02    |C:\\Users\\HSCAG-0643\\Desktop\\q-dir-11.14-installer_k6y-uD1.exe                               |null                                                            |null                            |0        |치료 가능(코드: 900)                                                         |실시간 검사|null |null    |null       |\n",
      "|5  |2024-01-31 16:55:00.000|2024-01-31 16:55:00.000|6584    |192.168.64.26|c4-bd-e5-f6-19-72|HSCAG-0643   |HSCAG-0643         |신규탁   |한솔제지/천안|null          |null        |null                |PUP/Win32.Generic.W515528841|2024.01.31.02    |C:\\Users\\HSCAG-0643\\Desktop\\q-dir-11.14-installer_k6y-uD1.exe                               |EAC87FE9C44951C75EA85477446497E2B4D517A4B4E0FF5277BA3ABFD60866B8|77661c1f14078da3859e76c76749e3b0|1771104  |치료 완료(파일 자체가 악성코드이므로 파일을 삭제했습니다.(코드: 1008))       |실시간 검사|null |null    |null       |\n",
      "|6  |2024-01-31 16:55:00.000|2024-01-31 16:55:00.000|6584    |192.168.64.26|c4-bd-e5-f6-19-72|HSCAG-0643   |HSCAG-0643         |신규탁   |한솔제지/천안|null          |null        |null                |PUP/Win32.Generic.W515528841|2024.01.31.02    |C:\\Users\\HSCAG-0643\\Desktop\\q-dir-11.14-installer_k6y-uD1.exe                               |EAC87FE9C44951C75EA85477446497E2B4D517A4B4E0FF5277BA3ABFD60866B8|77661c1f14078da3859e76c76749e3b0|1771104  |치료 가능(코드: 900)                                                         |실시간 검사|null |null    |null       |\n",
      "|7  |2024-01-31 16:55:00.000|2024-01-31 16:55:00.000|6584    |192.168.64.26|c4-bd-e5-f6-19-72|HSCAG-0643   |HSCAG-0643         |신규탁   |한솔제지/천안|null          |null        |null                |PUP/Win32.Generic.W515528841|2024.01.31.02    |C:\\Users\\HSCAG-0643\\Desktop\\확인되지 않음 875518.crdownload                                 |null                                                            |null                            |0        |치료 불가(이미 삭제됐거나 파일이 존재하지 않아 치료할 수 없습니다.(코드: 26))|실시간 검사|null |null    |null       |\n",
      "|8  |2024-01-31 16:55:00.000|2024-01-31 16:55:00.000|6584    |192.168.64.26|c4-bd-e5-f6-19-72|HSCAG-0643   |HSCAG-0643         |신규탁   |한솔제지/천안|null          |null        |null                |PUP/Win32.Generic.W515528841|2024.01.31.02    |C:\\Users\\HSCAG-0643\\Desktop\\확인되지 않음 875518.crdownload                                 |null                                                            |null                            |0        |치료 가능(코드: 900)                                                         |실시간 검사|null |null    |null       |\n",
      "|9  |2024-01-31 16:55:00.000|2024-01-31 16:54:00.000|6584    |192.168.64.26|c4-bd-e5-f6-19-72|HSCAG-0643   |HSCAG-0643         |신규탁   |한솔제지/천안|null          |null        |null                |PUP/Win32.Generic.W491841441|2024.01.31.02    |C:\\Users\\HSCAG-0643\\AppData\\Local\\Microsoft\\Edge\\User Data\\Default\\Cache\\Cache_Data\\f_00642c|434FC68650BEF5A440370A47A689B4D41EC582086BF3A1DF8CF2DBD5A0FF3E73|06f37f0e9fbd788b2341faf6a43f6eb5|1771104  |치료 완료(파일 자체가 악성코드이므로 파일을 삭제했습니다.(코드: 1008))       |실시간 검사|null |null    |null       |\n",
      "|10 |2024-01-31 16:55:00.000|2024-01-31 16:54:00.000|6584    |192.168.64.26|c4-bd-e5-f6-19-72|HSCAG-0643   |HSCAG-0643         |신규탁   |한솔제지/천안|null          |null        |null                |PUP/Win32.Generic.W491841441|2024.01.31.02    |C:\\Users\\HSCAG-0643\\AppData\\Local\\Microsoft\\Edge\\User Data\\Default\\Cache\\Cache_Data\\f_00642c|434FC68650BEF5A440370A47A689B4D41EC582086BF3A1DF8CF2DBD5A0FF3E73|06f37f0e9fbd788b2341faf6a43f6eb5|1771104  |치료 가능(코드: 900)                                                         |실시간 검사|null |null    |null       |\n",
      "+---+-----------------------+-----------------------+--------+-------------+-----------------+-------------+-------------------+---------+-------------+--------------+------------+--------------------+----------------------------+-----------------+--------------------------------------------------------------------------------------------+----------------------------------------------------------------+--------------------------------+---------+-----------------------------------------------------------------------------+-----------+-----+--------+-----------+\n",
      "only showing top 10 rows\n",
      "\n"
     ]
    }
   ],
   "source": [
    "df.show(10, False)"
   ]
  },
  {
   "cell_type": "code",
   "execution_count": 5,
   "metadata": {},
   "outputs": [
    {
     "name": "stdout",
     "output_type": "stream",
     "text": [
      "root\n",
      " |-- id: string (nullable = true)\n",
      " |-- log_receive_date: string (nullable = true)\n",
      " |-- log_create_date: string (nullable = true)\n",
      " |-- agent_id: string (nullable = true)\n",
      " |-- ip_address: string (nullable = true)\n",
      " |-- mac_address: string (nullable = true)\n",
      " |-- computer_name: string (nullable = true)\n",
      " |-- last_logged_in_user: string (nullable = true)\n",
      " |-- user_name: string (nullable = true)\n",
      " |-- department: string (nullable = true)\n",
      " |-- container_name: string (nullable = true)\n",
      " |-- container_id: string (nullable = true)\n",
      " |-- container_image_name: string (nullable = true)\n",
      " |-- malware_name: string (nullable = true)\n",
      " |-- v3_engine_version: string (nullable = true)\n",
      " |-- infected_file_path: string (nullable = true)\n",
      " |-- hash_sha256: string (nullable = true)\n",
      " |-- hash_md5: string (nullable = true)\n",
      " |-- file_size: string (nullable = true)\n",
      " |-- status: string (nullable = true)\n",
      " |-- scan_method: string (nullable = true)\n",
      " |-- owner: string (nullable = true)\n",
      " |-- accessor: string (nullable = true)\n",
      " |-- infected_by: string (nullable = true)\n",
      "\n"
     ]
    }
   ],
   "source": [
    "df.printSchema()"
   ]
  },
  {
   "cell_type": "code",
   "execution_count": 6,
   "metadata": {},
   "outputs": [],
   "source": [
    "df.createOrReplaceTempView(\"epp\")"
   ]
  },
  {
   "cell_type": "code",
   "execution_count": 8,
   "metadata": {},
   "outputs": [
    {
     "name": "stderr",
     "output_type": "stream",
     "text": [
      "                                                                                \r"
     ]
    },
    {
     "name": "stdout",
     "output_type": "stream",
     "text": [
      "+------------------------------------+\n",
      "|department                          |\n",
      "+------------------------------------+\n",
      "|한솔제지신탄진-기술환경팀           |\n",
      "|한솔EME본사-품질안전팀              |\n",
      "|한솔케미칼울산-생산팀과수           |\n",
      "|케미칼본사-대표이사실               |\n",
      "|케미칼전주-경영지원팀               |\n",
      "|한솔페이퍼텍-생산팀                 |\n",
      "|테크닉스/TV개발1팀                  |\n",
      "|한솔인티큐브/인터큐브 무선          |\n",
      "|한솔페이퍼텍-공무팀                 |\n",
      "|HDC리조트-장비팀                    |\n",
      "|한솔제지본사-신제품팀               |\n",
      "|케미칼전주-라텍스팀                 |\n",
      "|한솔제지본사-산업용지국내영업팀     |\n",
      "|한솔이엠이.메인텍                   |\n",
      "|한솔테크닉스/테크닉스 수원          |\n",
      "|에코패키징                          |\n",
      "|한솔제지/천안                       |\n",
      "|제지 환경사업본부/운영사업2팀       |\n",
      "|한솔제지장항-생산2팀                |\n",
      "|한솔홈데코/홈데코 익산              |\n",
      "|한솔제지/산업용지 해외영업팀        |\n",
      "|인티큐브                            |\n",
      "|코에버정보기술/E3사업본부           |\n",
      "|테크닉스 본사/글로벌제품기술팀-2그룹|\n",
      "|한솔PNS유통-경영지원팀              |\n",
      "|한솔인티큐브-모바일개발2팀          |\n",
      "|null                                |\n",
      "|한솔PNS/프로젝트팀 PM파트           |\n",
      "|한솔로지스틱스-덕평센터-현대창고    |\n",
      "|한솔케미칼/케미칼 울산              |\n",
      "+------------------------------------+\n",
      "only showing top 30 rows\n",
      "\n"
     ]
    }
   ],
   "source": [
    "n_df = spark.sql(\"SELECT DISTINCT(department) FROM epp\")\n",
    "n_df.show(30, False)"
   ]
  },
  {
   "cell_type": "code",
   "execution_count": 22,
   "metadata": {},
   "outputs": [
    {
     "name": "stdout",
     "output_type": "stream",
     "text": [
      "+------------------------------------------+\n",
      "|title                                     |\n",
      "+------------------------------------------+\n",
      "|Bottle Rocket (1996)                      |\n",
      "|Mr. Wrong (1996)                          |\n",
      "|Unforgettable (1996)                      |\n",
      "|Happy Gilmore (1996)                      |\n",
      "|Bridges of Madison County, The (1995)     |\n",
      "|Nobody Loves Me (Keiner liebt mich) (1994)|\n",
      "|Muppet Treasure Island (1996)             |\n",
      "|Catwalk (1996)                            |\n",
      "|Braveheart (1995)                         |\n",
      "|Taxi Driver (1976)                        |\n",
      "+------------------------------------------+\n",
      "only showing top 10 rows\n",
      "\n"
     ]
    }
   ],
   "source": [
    "spark.sql(\"SELECT title FROM movies WHERE movieId > 100\").show(10, False)"
   ]
  },
  {
   "cell_type": "code",
   "execution_count": 30,
   "metadata": {},
   "outputs": [
    {
     "name": "stderr",
     "output_type": "stream",
     "text": [
      "\r",
      "[Stage 15:===============================================>      (175 + 1) / 200]\r",
      "\r",
      "                                                                                \r"
     ]
    },
    {
     "data": {
      "text/plain": [
       "9732"
      ]
     },
     "execution_count": 30,
     "metadata": {},
     "output_type": "execute_result"
    }
   ],
   "source": [
    "spark.sql(\"\"\"\n",
    "    SELECT movieId, genres\n",
    "    FROM movies\n",
    "    GROUP BY genres, movieId\"\"\"\n",
    "    ).where(\"movieId > 10\"\n",
    "    ).count()"
   ]
  },
  {
   "cell_type": "markdown",
   "metadata": {},
   "source": [
    "## RDD with partitions"
   ]
  },
  {
   "cell_type": "code",
   "execution_count": 9,
   "metadata": {},
   "outputs": [],
   "source": [
    "rdd1 = sc.textFile(\"../data/movies.csv\")\n",
    "rdd2 = sc.textFile(\"../data/ratings.csv\")"
   ]
  },
  {
   "cell_type": "code",
   "execution_count": 16,
   "metadata": {},
   "outputs": [
    {
     "name": "stdout",
     "output_type": "stream",
     "text": [
      "defaultMinPartitions: 1\n",
      "name: rdd1, count: <bound method RDD.count of ../data/movies.csv MapPartitionsRDD[32] at textFile at NativeMethodAccessorImpl.java:0>, partitions: 1\n",
      "name: rdd2, count: <bound method RDD.count of ../data/ratings.csv MapPartitionsRDD[34] at textFile at NativeMethodAccessorImpl.java:0>, partitions: 1\n"
     ]
    }
   ],
   "source": [
    "\n",
    "print(f\"defaultMinPartitions: {sc.defaultMinPartitions}\")\n",
    "print(f\"name: rdd1, count: {rdd1.count}, partitions: {rdd1.getNumPartitions()}\")\n",
    "print(f\"name: rdd2, count: {rdd2.count}, partitions: {rdd2.getNumPartitions()}\")\n"
   ]
  },
  {
   "cell_type": "markdown",
   "metadata": {},
   "source": [
    "## Spark SQL"
   ]
  },
  {
   "cell_type": "code",
   "execution_count": 20,
   "metadata": {},
   "outputs": [
    {
     "name": "stderr",
     "output_type": "stream",
     "text": [
      "[Stage 10:==================================>                       (3 + 1) / 5]\r"
     ]
    },
    {
     "name": "stdout",
     "output_type": "stream",
     "text": [
      "root\n",
      " |-- actor: string (nullable = true)\n",
      " |-- created_at: string (nullable = true)\n",
      " |-- id: string (nullable = true)\n",
      " |-- org: string (nullable = true)\n",
      " |-- payload: string (nullable = true)\n",
      " |-- public: boolean (nullable = true)\n",
      " |-- repo: string (nullable = true)\n",
      " |-- type: string (nullable = true)\n",
      "\n"
     ]
    },
    {
     "name": "stderr",
     "output_type": "stream",
     "text": [
      "\r",
      "                                                                                \r"
     ]
    }
   ],
   "source": [
    "github = spark.read.json(\"../data/*.json\")\n",
    "github.printSchema()"
   ]
  },
  {
   "cell_type": "code",
   "execution_count": 23,
   "metadata": {},
   "outputs": [
    {
     "name": "stdout",
     "output_type": "stream",
     "text": [
      "+--------------------+--------------------+-----------+----+--------------------+------+--------------------+-----------+\n",
      "|               actor|          created_at|         id| org|             payload|public|                repo|       type|\n",
      "+--------------------+--------------------+-----------+----+--------------------+------+--------------------+-----------+\n",
      "|{\"id\":83618436,\"l...|2024-05-19T14:00:00Z|38509489462|null|{\"repository_id\":...|  true|{\"id\":489717552,\"...|  PushEvent|\n",
      "|{\"id\":132692,\"log...|2024-05-19T14:00:00Z|38509489467|null|{\"repository_id\":...|  true|{\"id\":791822148,\"...|  PushEvent|\n",
      "|{\"id\":78722358,\"l...|2024-05-19T14:00:00Z|38509489469|null|{\"repository_id\":...|  true|{\"id\":802788764,\"...|  PushEvent|\n",
      "|{\"id\":41898282,\"l...|2024-05-19T14:00:00Z|38509489476|null|{\"repository_id\":...|  true|{\"id\":400840924,\"...|  PushEvent|\n",
      "|{\"id\":41898282,\"l...|2024-05-19T14:00:00Z|38509489485|null|{\"repository_id\":...|  true|{\"id\":492467823,\"...|  PushEvent|\n",
      "|{\"id\":97881751,\"l...|2024-05-19T14:00:00Z|38509489490|null|                  {}|  true|{\"id\":802159575,\"...|PublicEvent|\n",
      "|{\"id\":153695169,\"...|2024-05-19T14:00:00Z|38509489497|null|{\"repository_id\":...|  true|{\"id\":730932158,\"...|  PushEvent|\n",
      "|{\"id\":147519026,\"...|2024-05-19T14:00:00Z|38509489499|null|{\"ref\":\"Jen\",\"ref...|  true|{\"id\":802287057,\"...|CreateEvent|\n",
      "|{\"id\":168751944,\"...|2024-05-19T14:00:00Z|38509489502|null|{\"repository_id\":...|  true|{\"id\":795074361,\"...|  PushEvent|\n",
      "|{\"id\":101239440,\"...|2024-05-19T14:00:00Z|38509489505|null|{\"repository_id\":...|  true|{\"id\":662925679,\"...|  PushEvent|\n",
      "+--------------------+--------------------+-----------+----+--------------------+------+--------------------+-----------+\n",
      "only showing top 10 rows\n",
      "\n"
     ]
    }
   ],
   "source": [
    "github.show(10)"
   ]
  },
  {
   "cell_type": "code",
   "execution_count": 33,
   "metadata": {},
   "outputs": [
    {
     "name": "stdout",
     "output_type": "stream",
     "text": [
      "+---------------------------------------------------------------------------------------------------------------------------------------------------------------------------------------------+--------------------+-----------+----+----------------------------------------------------------------------------------------------------------------------------------------------------------------------------------------------------------------------------------------------------------------------------------------------------------------------------------------------------------------------------------------------------------------------------------------------------------------------------------------------------------------------------+------+--------------------------------------------------------------------------------------------------------------------+---------+\n",
      "|actor                                                                                                                                                                                        |created_at          |id         |org |payload                                                                                                                                                                                                                                                                                                                                                                                                                                                                                                                     |public|repo                                                                                                                |type     |\n",
      "+---------------------------------------------------------------------------------------------------------------------------------------------------------------------------------------------+--------------------+-----------+----+----------------------------------------------------------------------------------------------------------------------------------------------------------------------------------------------------------------------------------------------------------------------------------------------------------------------------------------------------------------------------------------------------------------------------------------------------------------------------------------------------------------------------+------+--------------------------------------------------------------------------------------------------------------------+---------+\n",
      "|{\"id\":83618436,\"login\":\"Drunkula\",\"display_login\":\"Drunkula\",\"gravatar_id\":\"\",\"url\":\"https://api.github.com/users/Drunkula\",\"avatar_url\":\"https://avatars.githubusercontent.com/u/83618436?\"}|2024-05-19T14:00:00Z|38509489462|null|{\"repository_id\":489717552,\"push_id\":18490096435,\"size\":1,\"distinct_size\":1,\"ref\":\"refs/heads/master\",\"head\":\"ae1b25f136b195ca0e671853c82a2000fd603442\",\"before\":\"d682fc58a487a4e7fb0ca4f1b75145704447819d\",\"commits\":[{\"sha\":\"ae1b25f136b195ca0e671853c82a2000fd603442\",\"author\":{\"email\":\"spudguzzler@sharklasers.com\",\"name\":\"Drunkula\"},\"message\":\"command replacements for players\",\"distinct\":true,\"url\":\"https://api.github.com/repos/Drunkula/twitchtoolsglitch/commits/ae1b25f136b195ca0e671853c82a2000fd603442\"}]}|true  |{\"id\":489717552,\"name\":\"Drunkula/twitchtoolsglitch\",\"url\":\"https://api.github.com/repos/Drunkula/twitchtoolsglitch\"}|PushEvent|\n",
      "+---------------------------------------------------------------------------------------------------------------------------------------------------------------------------------------------+--------------------+-----------+----+----------------------------------------------------------------------------------------------------------------------------------------------------------------------------------------------------------------------------------------------------------------------------------------------------------------------------------------------------------------------------------------------------------------------------------------------------------------------------------------------------------------------------+------+--------------------------------------------------------------------------------------------------------------------+---------+\n",
      "only showing top 1 row\n",
      "\n"
     ]
    }
   ],
   "source": [
    "github.show(1, False)"
   ]
  },
  {
   "cell_type": "code",
   "execution_count": 71,
   "metadata": {},
   "outputs": [
    {
     "name": "stdout",
     "output_type": "stream",
     "text": [
      "+-------------------+------------------------------------------------+--------------------+-----------+-------------+----+-------------+-------+-----------+----------------------------------------+---------------------------------------------------------------------+\n",
      "|login              |url                                             |created_at          |id         |repository_id|size|distinct_size|message|type       |name                                    |url                                                                  |\n",
      "+-------------------+------------------------------------------------+--------------------+-----------+-------------+----+-------------+-------+-----------+----------------------------------------+---------------------------------------------------------------------+\n",
      "|Drunkula           |https://api.github.com/users/Drunkula           |2024-05-19T14:00:00Z|38509489462|489717552    |1   |1            |null   |PushEvent  |Drunkula/twitchtoolsglitch              |https://api.github.com/repos/Drunkula/twitchtoolsglitch              |\n",
      "|allenlooplee       |https://api.github.com/users/allenlooplee       |2024-05-19T14:00:00Z|38509489467|791822148    |1   |1            |null   |PushEvent  |allenlooplee/open-piggy-ios             |https://api.github.com/repos/allenlooplee/open-piggy-ios             |\n",
      "|carmithersh        |https://api.github.com/users/carmithersh        |2024-05-19T14:00:00Z|38509489469|802788764    |1   |1            |null   |PushEvent  |carmithersh/setup-jfrog-cli             |https://api.github.com/repos/carmithersh/setup-jfrog-cli             |\n",
      "|github-actions[bot]|https://api.github.com/users/github-actions[bot]|2024-05-19T14:00:00Z|38509489476|400840924    |1   |1            |null   |PushEvent  |Christophecs2/Christophecs2             |https://api.github.com/repos/Christophecs2/Christophecs2             |\n",
      "|github-actions[bot]|https://api.github.com/users/github-actions[bot]|2024-05-19T14:00:00Z|38509489485|492467823    |1   |1            |null   |PushEvent  |itz-Amethyst/itz-Amethyst               |https://api.github.com/repos/itz-Amethyst/itz-Amethyst               |\n",
      "|maksimgu90         |https://api.github.com/users/maksimgu90         |2024-05-19T14:00:00Z|38509489490|null         |null|null         |null   |PublicEvent|maksimgu90/cpp-search-server            |https://api.github.com/repos/maksimgu90/cpp-search-server            |\n",
      "|tipo23             |https://api.github.com/users/tipo23             |2024-05-19T14:00:00Z|38509489497|730932158    |1   |1            |null   |PushEvent  |tipo23/dark-web-links                   |https://api.github.com/repos/tipo23/dark-web-links                   |\n",
      "|rlmgtr             |https://api.github.com/users/rlmgtr             |2024-05-19T14:00:00Z|38509489499|null         |null|null         |null   |CreateEvent|rlmgtr/javascript-teamProject-weatherApp|https://api.github.com/repos/rlmgtr/javascript-teamProject-weatherApp|\n",
      "|Mix-Link           |https://api.github.com/users/Mix-Link           |2024-05-19T14:00:00Z|38509489502|795074361    |1   |1            |null   |PushEvent  |Mix-Link/darkweb                        |https://api.github.com/repos/Mix-Link/darkweb                        |\n",
      "|pingowl            |https://api.github.com/users/pingowl            |2024-05-19T14:00:00Z|38509489505|662925679    |1   |1            |null   |PushEvent  |pingowl/Algorithm                       |https://api.github.com/repos/pingowl/Algorithm                       |\n",
      "+-------------------+------------------------------------------------+--------------------+-----------+-------------+----+-------------+-------+-----------+----------------------------------------+---------------------------------------------------------------------+\n",
      "only showing top 10 rows\n",
      "\n"
     ]
    }
   ],
   "source": [
    "from pyspark.sql.types import StructType, StructField, StringType, LongType\n",
    "import pyspark.sql.functions as F\n",
    "\n",
    "actor_schema = StructType([\n",
    "    StructField('login', StringType(), True),\n",
    "    StructField('url', StringType(), True)\n",
    "])\n",
    "\n",
    "payload_schema = StructType([\n",
    "    StructField('repository_id', LongType(), True),\n",
    "    StructField('size', LongType(), True),\n",
    "    StructField('distinct_size', LongType(), True),\n",
    "    StructField('message', StringType(), True)\n",
    "])\n",
    "\n",
    "repo_schema = StructType([\n",
    "    StructField('name', StringType(), True),\n",
    "    StructField('url', StringType(), True)\n",
    "])\n",
    "\n",
    "new_df = github.withColumn('actor_json', F.from_json('actor', actor_schema)) \\\n",
    "               .select('created_at', 'id', 'payload', 'type', 'actor_json.*', 'repo')\n",
    "new_df = new_df.withColumn('payload_json', F.from_json('payload', payload_schema)) \\\n",
    "               .select('login', 'url', 'created_at', 'id', 'payload_json.*', 'type', 'repo')\n",
    "new_df = new_df.withColumn('repo_json', F.from_json('repo', repo_schema)) \\\n",
    "               .select('login', 'url', 'created_at', 'id', 'repository_id', 'size', 'distinct_size', 'message', 'type', 'repo_json.*')\n",
    "new_df.show(10, False)"
   ]
  },
  {
   "cell_type": "markdown",
   "metadata": {},
   "source": [
    "\n",
    "|login     |url    |created_at    |id   |repository_id|size|distinct_size|message|type  |\n",
    "| --- | ---| ---| --- | --- | --- | --- | --- | --- |\n",
    "| String | String | DateTime | Long | Long | Int | Int | String | String |\n",
    "\n",
    "Top 50 Push repositories\n",
    "Top 50 Commit repositories\n",
    "\n"
   ]
  },
  {
   "cell_type": "code",
   "execution_count": 55,
   "metadata": {},
   "outputs": [
    {
     "name": "stdout",
     "output_type": "stream",
     "text": [
      "root\n",
      " |-- login: string (nullable = true)\n",
      " |-- url: string (nullable = true)\n",
      " |-- created_at: string (nullable = true)\n",
      " |-- id: string (nullable = true)\n",
      " |-- repository_id: long (nullable = true)\n",
      " |-- size: long (nullable = true)\n",
      " |-- distinct_size: long (nullable = true)\n",
      " |-- message: string (nullable = true)\n",
      " |-- type: string (nullable = true)\n",
      " |-- name: string (nullable = true)\n",
      " |-- url: string (nullable = true)\n",
      "\n"
     ]
    }
   ],
   "source": [
    "new_df.printSchema() "
   ]
  },
  {
   "cell_type": "code",
   "execution_count": 72,
   "metadata": {
    "scrolled": true
   },
   "outputs": [
    {
     "name": "stdout",
     "output_type": "stream",
     "text": [
      "+------------+-----------------------------------------+-------------------+-----------+-------------+----+-------------+-------+-----------+----------------------------------------+---------------------------------------------------------------------+-------------------+\n",
      "|login       |url                                      |created_at         |id         |repository_id|size|distinct_size|message|type       |name                                    |url                                                                  |created_dt         |\n",
      "+------------+-----------------------------------------+-------------------+-----------+-------------+----+-------------+-------+-----------+----------------------------------------+---------------------------------------------------------------------+-------------------+\n",
      "|Drunkula    |https://api.github.com/users/Drunkula    |2024-05-19 14:00:00|38509489462|489717552    |1   |1            |null   |PushEvent  |Drunkula/twitchtoolsglitch              |https://api.github.com/repos/Drunkula/twitchtoolsglitch              |2024-05-19 14:00:00|\n",
      "|allenlooplee|https://api.github.com/users/allenlooplee|2024-05-19 14:00:00|38509489467|791822148    |1   |1            |null   |PushEvent  |allenlooplee/open-piggy-ios             |https://api.github.com/repos/allenlooplee/open-piggy-ios             |2024-05-19 14:00:00|\n",
      "|carmithersh |https://api.github.com/users/carmithersh |2024-05-19 14:00:00|38509489469|802788764    |1   |1            |null   |PushEvent  |carmithersh/setup-jfrog-cli             |https://api.github.com/repos/carmithersh/setup-jfrog-cli             |2024-05-19 14:00:00|\n",
      "|maksimgu90  |https://api.github.com/users/maksimgu90  |2024-05-19 14:00:00|38509489490|null         |null|null         |null   |PublicEvent|maksimgu90/cpp-search-server            |https://api.github.com/repos/maksimgu90/cpp-search-server            |2024-05-19 14:00:00|\n",
      "|tipo23      |https://api.github.com/users/tipo23      |2024-05-19 14:00:00|38509489497|730932158    |1   |1            |null   |PushEvent  |tipo23/dark-web-links                   |https://api.github.com/repos/tipo23/dark-web-links                   |2024-05-19 14:00:00|\n",
      "|rlmgtr      |https://api.github.com/users/rlmgtr      |2024-05-19 14:00:00|38509489499|null         |null|null         |null   |CreateEvent|rlmgtr/javascript-teamProject-weatherApp|https://api.github.com/repos/rlmgtr/javascript-teamProject-weatherApp|2024-05-19 14:00:00|\n",
      "|Mix-Link    |https://api.github.com/users/Mix-Link    |2024-05-19 14:00:00|38509489502|795074361    |1   |1            |null   |PushEvent  |Mix-Link/darkweb                        |https://api.github.com/repos/Mix-Link/darkweb                        |2024-05-19 14:00:00|\n",
      "|pingowl     |https://api.github.com/users/pingowl     |2024-05-19 14:00:00|38509489505|662925679    |1   |1            |null   |PushEvent  |pingowl/Algorithm                       |https://api.github.com/repos/pingowl/Algorithm                       |2024-05-19 14:00:00|\n",
      "|Artheek18   |https://api.github.com/users/Artheek18   |2024-05-19 14:00:00|38509489508|802567839    |1   |1            |null   |PushEvent  |Artheek18/HawkHacks                     |https://api.github.com/repos/Artheek18/HawkHacks                     |2024-05-19 14:00:00|\n",
      "|Lanvry      |https://api.github.com/users/Lanvry      |2024-05-19 14:00:00|38509489510|null         |null|null         |null   |CreateEvent|Lanvry/APIEndpoint                      |https://api.github.com/repos/Lanvry/APIEndpoint                      |2024-05-19 14:00:00|\n",
      "+------------+-----------------------------------------+-------------------+-----------+-------------+----+-------------+-------+-----------+----------------------------------------+---------------------------------------------------------------------+-------------------+\n",
      "only showing top 10 rows\n",
      "\n"
     ]
    }
   ],
   "source": [
    "# filter github action bot\n",
    "new_df = new_df.filter(col(\"login\") != \"github-actions[bot]\")\n",
    "new_df = new_df.withColumn('created_at', F.trim(F.regexp_replace(new_df.created_at, \"[TZ]\", \" \")))\n",
    "new_df = new_df.withColumn('created_dt', F.to_timestamp(new_df.created_at, 'yyyy-MM-dd HH:mm:ss'))\n",
    "new_df.show(10, False)"
   ]
  },
  {
   "cell_type": "code",
   "execution_count": 73,
   "metadata": {},
   "outputs": [
    {
     "name": "stdout",
     "output_type": "stream",
     "text": [
      "root\n",
      " |-- login: string (nullable = true)\n",
      " |-- url: string (nullable = true)\n",
      " |-- created_at: string (nullable = true)\n",
      " |-- id: string (nullable = true)\n",
      " |-- repository_id: long (nullable = true)\n",
      " |-- size: long (nullable = true)\n",
      " |-- distinct_size: long (nullable = true)\n",
      " |-- message: string (nullable = true)\n",
      " |-- type: string (nullable = true)\n",
      " |-- name: string (nullable = true)\n",
      " |-- url: string (nullable = true)\n",
      " |-- created_dt: timestamp (nullable = true)\n",
      "\n"
     ]
    }
   ],
   "source": [
    "new_df.printSchema()"
   ]
  },
  {
   "cell_type": "code",
   "execution_count": 64,
   "metadata": {},
   "outputs": [],
   "source": [
    "def check_repo_name(name):\n",
    "    sp = name.split(\"/\")\n",
    "    if not sp:\n",
    "        return name\n",
    "    else:\n",
    "        return sp[-1]\n",
    "    \n",
    "udf_check_repo_name = F.udf(check_repo_name, StringType())"
   ]
  },
  {
   "cell_type": "code",
   "execution_count": null,
   "metadata": {},
   "outputs": [],
   "source": [
    "# @F.udf(returnType=StringType())\n",
    "# def check_repo_name(val):\n",
    "#     sp = name.split(\"/\")\n",
    "#     if not sp:\n",
    "#         return name\n",
    "#     else:\n",
    "#         return sp[-1]"
   ]
  },
  {
   "cell_type": "code",
   "execution_count": null,
   "metadata": {},
   "outputs": [],
   "source": [
    "# F.udf(lambda name => name.split(\"/\")[-1], StringType())"
   ]
  },
  {
   "cell_type": "code",
   "execution_count": 83,
   "metadata": {},
   "outputs": [
    {
     "name": "stdout",
     "output_type": "stream",
     "text": [
      "+------------+-----------------------------------------+-------------------+-----------+-------------+----+-------------+-------+-----------+----------------------------------------+---------------------------------------------------------------------+-------------------+---------------------------------+\n",
      "|login       |url                                      |created_at         |id         |repository_id|size|distinct_size|message|type       |name                                    |url                                                                  |created_dt         |repo_name                        |\n",
      "+------------+-----------------------------------------+-------------------+-----------+-------------+----+-------------+-------+-----------+----------------------------------------+---------------------------------------------------------------------+-------------------+---------------------------------+\n",
      "|Drunkula    |https://api.github.com/users/Drunkula    |2024-05-19 14:00:00|38509489462|489717552    |1   |1            |null   |PushEvent  |Drunkula/twitchtoolsglitch              |https://api.github.com/repos/Drunkula/twitchtoolsglitch              |2024-05-19 14:00:00|twitchtoolsglitch                |\n",
      "|allenlooplee|https://api.github.com/users/allenlooplee|2024-05-19 14:00:00|38509489467|791822148    |1   |1            |null   |PushEvent  |allenlooplee/open-piggy-ios             |https://api.github.com/repos/allenlooplee/open-piggy-ios             |2024-05-19 14:00:00|open-piggy-ios                   |\n",
      "|carmithersh |https://api.github.com/users/carmithersh |2024-05-19 14:00:00|38509489469|802788764    |1   |1            |null   |PushEvent  |carmithersh/setup-jfrog-cli             |https://api.github.com/repos/carmithersh/setup-jfrog-cli             |2024-05-19 14:00:00|setup-jfrog-cli                  |\n",
      "|maksimgu90  |https://api.github.com/users/maksimgu90  |2024-05-19 14:00:00|38509489490|null         |null|null         |null   |PublicEvent|maksimgu90/cpp-search-server            |https://api.github.com/repos/maksimgu90/cpp-search-server            |2024-05-19 14:00:00|cpp-search-server                |\n",
      "|tipo23      |https://api.github.com/users/tipo23      |2024-05-19 14:00:00|38509489497|730932158    |1   |1            |null   |PushEvent  |tipo23/dark-web-links                   |https://api.github.com/repos/tipo23/dark-web-links                   |2024-05-19 14:00:00|dark-web-links                   |\n",
      "|rlmgtr      |https://api.github.com/users/rlmgtr      |2024-05-19 14:00:00|38509489499|null         |null|null         |null   |CreateEvent|rlmgtr/javascript-teamProject-weatherApp|https://api.github.com/repos/rlmgtr/javascript-teamProject-weatherApp|2024-05-19 14:00:00|javascript-teamProject-weatherApp|\n",
      "|Mix-Link    |https://api.github.com/users/Mix-Link    |2024-05-19 14:00:00|38509489502|795074361    |1   |1            |null   |PushEvent  |Mix-Link/darkweb                        |https://api.github.com/repos/Mix-Link/darkweb                        |2024-05-19 14:00:00|darkweb                          |\n",
      "|pingowl     |https://api.github.com/users/pingowl     |2024-05-19 14:00:00|38509489505|662925679    |1   |1            |null   |PushEvent  |pingowl/Algorithm                       |https://api.github.com/repos/pingowl/Algorithm                       |2024-05-19 14:00:00|Algorithm                        |\n",
      "|Artheek18   |https://api.github.com/users/Artheek18   |2024-05-19 14:00:00|38509489508|802567839    |1   |1            |null   |PushEvent  |Artheek18/HawkHacks                     |https://api.github.com/repos/Artheek18/HawkHacks                     |2024-05-19 14:00:00|HawkHacks                        |\n",
      "|Lanvry      |https://api.github.com/users/Lanvry      |2024-05-19 14:00:00|38509489510|null         |null|null         |null   |CreateEvent|Lanvry/APIEndpoint                      |https://api.github.com/repos/Lanvry/APIEndpoint                      |2024-05-19 14:00:00|APIEndpoint                      |\n",
      "+------------+-----------------------------------------+-------------------+-----------+-------------+----+-------------+-------+-----------+----------------------------------------+---------------------------------------------------------------------+-------------------+---------------------------------+\n",
      "only showing top 10 rows\n",
      "\n"
     ]
    },
    {
     "name": "stderr",
     "output_type": "stream",
     "text": [
      "Traceback (most recent call last):\n",
      "  File \"/usr/local/spark/python/lib/pyspark.zip/pyspark/daemon.py\", line 186, in manager\n",
      "  File \"/usr/local/spark/python/lib/pyspark.zip/pyspark/daemon.py\", line 74, in worker\n",
      "  File \"/usr/local/spark/python/lib/pyspark.zip/pyspark/worker.py\", line 643, in main\n",
      "    if read_int(infile) == SpecialLengths.END_OF_STREAM:\n",
      "  File \"/usr/local/spark/python/lib/pyspark.zip/pyspark/serializers.py\", line 564, in read_int\n",
      "    raise EOFError\n",
      "EOFError\n"
     ]
    }
   ],
   "source": [
    "new_df = new_df.withColumn('repo_name', udf_check_repo_name(F.col('name')))\n",
    "new_df.show(10, False)"
   ]
  },
  {
   "cell_type": "code",
   "execution_count": 85,
   "metadata": {},
   "outputs": [
    {
     "name": "stderr",
     "output_type": "stream",
     "text": [
      "                                                                                \r"
     ]
    },
    {
     "data": {
      "text/plain": [
       "171662"
      ]
     },
     "execution_count": 85,
     "metadata": {},
     "output_type": "execute_result"
    }
   ],
   "source": [
    "new_df.count()"
   ]
  },
  {
   "cell_type": "code",
   "execution_count": 84,
   "metadata": {},
   "outputs": [
    {
     "name": "stderr",
     "output_type": "stream",
     "text": [
      "[Stage 44:==============================================>           (4 + 1) / 5]\r"
     ]
    },
    {
     "name": "stdout",
     "output_type": "stream",
     "text": [
      "+----------------+\n",
      "|count(repo_name)|\n",
      "+----------------+\n",
      "|50439           |\n",
      "+----------------+\n",
      "\n"
     ]
    },
    {
     "name": "stderr",
     "output_type": "stream",
     "text": [
      "\r",
      "                                                                                \r"
     ]
    }
   ],
   "source": [
    "new_df.agg(F.countDistinct('repo_name')).show(5, False)"
   ]
  },
  {
   "cell_type": "code",
   "execution_count": 88,
   "metadata": {},
   "outputs": [
    {
     "name": "stderr",
     "output_type": "stream",
     "text": [
      "                                                                                \r"
     ]
    },
    {
     "data": {
      "text/plain": [
       "50439"
      ]
     },
     "execution_count": 88,
     "metadata": {},
     "output_type": "execute_result"
    }
   ],
   "source": [
    "# Window\n",
    "from pyspark.sql.window import Window\n",
    "from pyspark.sql.functions import col, row_number\n",
    "\n",
    "w = Window.partitionBy(\"repo_name\").orderBy(F.desc(col(\"size\")))\n",
    "new_df.withColumn(\"row\", row_number().over(w)) \\\n",
    "      .filter(col(\"row\") == 1).drop(\"row\") \\\n",
    "      .count()"
   ]
  },
  {
   "cell_type": "markdown",
   "metadata": {},
   "source": [
    "## Data Model\n",
    "\n",
    "1. Top 10 Repo\n",
    "- id\n",
    "- @timestamp\n",
    "- repo_url\n",
    "- repo_name\n",
    "- push_count\n",
    "- commit_count\n",
    "- pr_count\n",
    "- fork_count\n",
    "- issue_count\n",
    "- watch_count\n",
    "\n",
    "2. Top 10 User\n",
    "- id\n",
    "- @timestamp\n",
    "- user_name\n",
    "- push_count\n",
    "- commit_count\n",
    "- pr_count\n",
    "- issue_count\n",
    "- issue_comment_count\n",
    "\n",
    "3. Daily Stats\n",
    "- id\n",
    "- @timestamp\n",
    "- distinct_user_cnt\n",
    "- distinct_repo_cnt\n",
    "- push_count\n",
    "- commit_count\n",
    "- pr_count\n",
    "- issue_count\n",
    "- issue_comment_count\n",
    "- release_count"
   ]
  },
  {
   "cell_type": "code",
   "execution_count": 89,
   "metadata": {},
   "outputs": [
    {
     "name": "stderr",
     "output_type": "stream",
     "text": [
      "                                                                                \r"
     ]
    },
    {
     "name": "stdout",
     "output_type": "stream",
     "text": [
      "+--------------------+\n",
      "|                type|\n",
      "+--------------------+\n",
      "|PullRequestReview...|\n",
      "|           PushEvent|\n",
      "|         GollumEvent|\n",
      "|        ReleaseEvent|\n",
      "|  CommitCommentEvent|\n",
      "|         CreateEvent|\n",
      "|PullRequestReview...|\n",
      "|   IssueCommentEvent|\n",
      "|         DeleteEvent|\n",
      "|         IssuesEvent|\n",
      "|           ForkEvent|\n",
      "|         PublicEvent|\n",
      "|         MemberEvent|\n",
      "|          WatchEvent|\n",
      "|    PullRequestEvent|\n",
      "+--------------------+\n",
      "\n"
     ]
    }
   ],
   "source": [
    "new_df.select(\"type\").distinct().show()"
   ]
  },
  {
   "cell_type": "code",
   "execution_count": null,
   "metadata": {},
   "outputs": [],
   "source": []
  }
 ],
 "metadata": {
  "kernelspec": {
   "display_name": "Python 3 (ipykernel)",
   "language": "python",
   "name": "python3"
  },
  "language_info": {
   "codemirror_mode": {
    "name": "ipython",
    "version": 3
   },
   "file_extension": ".py",
   "mimetype": "text/x-python",
   "name": "python",
   "nbconvert_exporter": "python",
   "pygments_lexer": "ipython3",
   "version": "3.9.7"
  }
 },
 "nbformat": 4,
 "nbformat_minor": 2
}
